{
 "cells": [
  {
   "cell_type": "markdown",
   "metadata": {},
   "source": [
    "Other ideas around pipelines\n",
    "================\n",
    "\n",
    "Spark\n",
    "-----------\n",
    "\n",
    "Similar to scikit-learn\n",
    "\n",
    "```scala\n",
    "val tokenizer = new Tokenizer()\n",
    "  .setInputCol(\"text\")\n",
    "  .setOutputCol(\"words\")\n",
    "val hashingTF = new HashingTF()\n",
    "  .setNumFeatures(1000)\n",
    "  .setInputCol(tokenizer.getOutputCol)\n",
    "  .setOutputCol(\"features\")\n",
    "val lr = new LogisticRegression()\n",
    "  .setMaxIter(10)\n",
    "  .setRegParam(0.001)\n",
    "val pipeline = new Pipeline()\n",
    "  .setStages(Array(tokenizer, hashingTF, lr))\n",
    "\n",
    "// Fit the pipeline to training documents.\n",
    "val model = pipeline.fit(training)\n",
    "```\n",
    "\n",
    "What about deep learning\n",
    "------------\n",
    "\n",
    "Neural networks are by definition more functional then any other Machine Learning paradigm.\n",
    "\n",
    "**Tensorflow**\n",
    "\n",
    "Similar ideas to scikit-learn. More ways to transform categorical and sequential datatypes.\n",
    "\n",
    "https://www.tensorflow.org/guide/feature_columns\n",
    "\n",
    "**Tensorflow Transform (tf.Transform)**\n",
    "\n",
    "https://www.tensorflow.org/tfx/transform/get_started\n",
    "\n",
    "**Fastai**\n",
    "\n",
    "Pytorch based framework for simplifying Deep Learning. Some say it is too magical.\n",
    "\n",
    "https://docs.fast.ai/tabular.html - API for defining pipelines for tabular data\n",
    "\n",
    "What about the cloud\n",
    "-----------\n",
    "\n",
    "https://cloud.google.com/ml-engine/docs/scikit/ml-solutions-overview"
   ]
  }
 ],
 "metadata": {
  "kernelspec": {
   "display_name": "Python 3",
   "language": "python",
   "name": "python3"
  },
  "language_info": {
   "codemirror_mode": {
    "name": "ipython",
    "version": 3
   },
   "file_extension": ".py",
   "mimetype": "text/x-python",
   "name": "python",
   "nbconvert_exporter": "python",
   "pygments_lexer": "ipython3",
   "version": "3.6.3"
  }
 },
 "nbformat": 4,
 "nbformat_minor": 2
}
